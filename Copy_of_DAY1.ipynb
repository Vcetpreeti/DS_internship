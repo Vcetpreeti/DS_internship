{
  "nbformat": 4,
  "nbformat_minor": 0,
  "metadata": {
    "colab": {
      "provenance": [],
      "authorship_tag": "ABX9TyOHpIPVH/03gWiVTDTIoDli",
      "include_colab_link": true
    },
    "kernelspec": {
      "name": "python3",
      "display_name": "Python 3"
    },
    "language_info": {
      "name": "python"
    }
  },
  "cells": [
    {
      "cell_type": "markdown",
      "metadata": {
        "id": "view-in-github",
        "colab_type": "text"
      },
      "source": [
        "<a href=\"https://colab.research.google.com/github/Vcetpreeti/DS_internship/blob/main/Copy_of_DAY1.ipynb\" target=\"_parent\"><img src=\"https://colab.research.google.com/assets/colab-badge.svg\" alt=\"Open In Colab\"/></a>"
      ]
    },
    {
      "cell_type": "code",
      "source": [
        "X=5\n",
        "M=6\n",
        "Y=\"9\"\n",
        "z=\"2\"\n",
        "print(type(X))\n",
        "print(type(Y))\n",
        "print(type(M))\n",
        "print(type(z))\n",
        "print(type(Y+z))\n",
        "print(Y+z)\n",
        "print(X+M)\n",
        "a=int(z)\n",
        "print(a+M)\n",
        "\n",
        "#list\n",
        "l1=['hii','12','list','preeti',[9.5,'56','yes']]\n",
        "l2=l1[4][2]\n",
        "print(l2)\n",
        "print(len(l2))\n",
        "print(type(l1))\n",
        "nums=[]\n",
        "nums.append(34)\n",
        "nums.append('preeti')\n",
        "nums.append(67.5)\n",
        "print(nums)\n",
        "#tuple\n",
        "t1=()\n",
        "print(type(t1))\n",
        "#dictionary\n",
        "d1={'name':'preeti','age':12,'salary':1200}\n",
        "print(d1)\n",
        "print(type(d1))\n",
        "print(d1.keys())\n",
        "print(d1.items())\n",
        "print(d1.values())\n",
        "print(d1['age'])\n",
        "#input\n",
        "x=int(input(\"enter num1:\"))\n",
        "y=int(input(\"enter num2:\"))\n",
        "print(x*y)\n",
        "if 34>x:\n",
        "  print(\"number is good\")\n",
        "elif 34<y:\n",
        "  print(\"numberis not good\")\n",
        "else:\n",
        " print(\"number is okayyish\")\n",
        "#NumPy\n",
        "import numpy as np\n",
        "arr=np.array((1,2,3))\n",
        "print(\"array with rank 2:\",arr)\n",
        "print(type(arr))\n",
        "print(\"array size:\",arr.size)\n",
        "#view\n",
        "#copy\n",
        "#def\n",
        "#base function to get the original value\n",
        "import pandas as pd\n",
        "mydataset={\n",
        "    'cars':['bmw',\"mercedes\",\"porcshe\"],\n",
        "    'passings':[3,4,5]\n",
        "}\n",
        "\n"
      ],
      "metadata": {
        "id": "2u4VHlKkAoDy",
        "colab": {
          "base_uri": "https://localhost:8080/"
        },
        "outputId": "a53ca011-29e8-49f9-ad2f-6d9698c808e0"
      },
      "execution_count": null,
      "outputs": [
        {
          "output_type": "stream",
          "name": "stdout",
          "text": [
            "<class 'int'>\n",
            "<class 'str'>\n",
            "<class 'int'>\n",
            "<class 'str'>\n",
            "<class 'str'>\n",
            "92\n",
            "11\n",
            "8\n",
            "yes\n",
            "3\n",
            "<class 'list'>\n",
            "[34, 'preeti', 67.5]\n",
            "<class 'tuple'>\n",
            "{'name': 'preeti', 'age': 12, 'salary': 1200}\n",
            "<class 'dict'>\n",
            "dict_keys(['name', 'age', 'salary'])\n",
            "dict_items([('name', 'preeti'), ('age', 12), ('salary', 1200)])\n",
            "dict_values(['preeti', 12, 1200])\n",
            "12\n",
            "enter num1:3\n",
            "enter num2:6\n",
            "18\n",
            "number is good\n",
            "array with rank 2: [1 2 3]\n",
            "<class 'numpy.ndarray'>\n",
            "array size: 3\n"
          ]
        }
      ]
    },
    {
      "cell_type": "code",
      "source": [
        "import numpy as np\n",
        "#In this example, we are creating a two-dimensional array that has the rank of 2 as it has 2 axes.\n",
        "#The first axis(dimension) is of length 2, i.e., the number of rows, and the second axis(dimension) is of length 3,\n",
        "#i.e., the number of columns. The overall shape of the array can be represented as (2, 3)\n",
        "# Creating array object\n",
        "arr = np.array( [[ 1, 2, 3],\n",
        "\t\t\t\t[ 4, 2, 5]] )\n",
        "\n",
        "# Printing type of arr object\n",
        "print(\"Array is of type: \", type(arr))\n",
        "\n",
        "# Printing array dimensions (axes)\n",
        "print(\"No. of dimensions: \", arr.ndim)\n",
        "\n",
        "# Printing shape of array\n",
        "print(\"Shape of array: \", arr.shape)\n",
        "\n",
        "# Printing size (total number of elements) of array\n",
        "print(\"Size of array: \", arr.size)\n",
        "\n",
        "# Printing type of elements in array\n",
        "print(\"Array stores elements of type: \", arr.dtype)\n",
        "\n"
      ],
      "metadata": {
        "id": "AXcKci4sooh3",
        "outputId": "46fdd795-490d-4a8c-c87d-fbc48cb64078",
        "colab": {
          "base_uri": "https://localhost:8080/"
        }
      },
      "execution_count": null,
      "outputs": [
        {
          "output_type": "stream",
          "name": "stdout",
          "text": [
            "Array is of type:  <class 'numpy.ndarray'>\n",
            "No. of dimensions:  2\n",
            "Shape of array:  (2, 3)\n",
            "Size of array:  6\n",
            "Array stores elements of type:  int64\n"
          ]
        }
      ]
    },
    {
      "cell_type": "code",
      "source": [
        "#Python program for\n",
        "# Creation of Arrays\n",
        "import numpy as np\n",
        "\n",
        "# Creating a rank 1 Array\n",
        "arr = np.array([1, 2, 3])\n",
        "print(\"Array with Rank 1: \\n\",arr)\n",
        "\n",
        "# Creating a rank 2 Array\n",
        "arr = np.array([[1, 2, 3],\n",
        "                [4, 5, 6]])\n",
        "print(\"Array with Rank 2: \\n\", arr)\n",
        "\n",
        "# Creating an array from tuple\n",
        "arr = np.array((1, 3, 2))\n",
        "print(\"\\nArray created using \"\n",
        "      \"passed tuple:\\n\", arr)\n"
      ],
      "metadata": {
        "id": "lPHbZtZbpPpZ",
        "outputId": "7a5e75fe-e671-4a87-be04-d3bad6f69b81",
        "colab": {
          "base_uri": "https://localhost:8080/"
        }
      },
      "execution_count": null,
      "outputs": [
        {
          "output_type": "stream",
          "name": "stdout",
          "text": [
            "Array with Rank 1: \n",
            " [1 2 3]\n",
            "Array with Rank 2: \n",
            " [[1 2 3]\n",
            " [4 5 6]]\n",
            "\n",
            "Array created using passed tuple:\n",
            " [1 3 2]\n"
          ]
        }
      ]
    },
    {
      "cell_type": "code",
      "source": [
        "import numpy as np\n",
        "\n",
        "# creating array\n",
        "arr = np.array([2, 4, 6, 8, 10])\n",
        "\n",
        "# creating copy of array\n",
        "c = arr.copy()\n",
        "\n",
        "# both arr and c have different id\n",
        "print(\"id of arr\", id(arr))\n",
        "print(\"id of c\", id(c))\n",
        "\n",
        "# changing original array\n",
        "# this will not effect copy\n",
        "arr[0] = 12\n",
        "\n",
        "# printing array and copy\n",
        "print(\"original array- \", arr)\n",
        "print(\"copy- \", c)\n",
        "\n"
      ],
      "metadata": {
        "id": "u_6S0reJpUHZ",
        "outputId": "b9825682-1311-4235-c29b-4c6e08bf0590",
        "colab": {
          "base_uri": "https://localhost:8080/"
        }
      },
      "execution_count": null,
      "outputs": [
        {
          "output_type": "stream",
          "name": "stdout",
          "text": [
            "id of arr 135931302520432\n",
            "id of c 135931302520720\n",
            "original array-  [12  4  6  8 10]\n",
            "copy-  [ 2  4  6  8 10]\n"
          ]
        }
      ]
    },
    {
      "cell_type": "code",
      "source": [
        "# Let's define our function\n",
        "# Parameters: Input Array\n",
        "def sum(array):\n",
        "\n",
        "\t# Set variable for our final answer\n",
        "\tsum = 0\n",
        "\n",
        "\t# Parse through our array\n",
        "\tfor i in array:\n",
        "\n",
        "\t\t# Continuously add current element\n",
        "\t\t# to final sum\n",
        "\t\tsum += i\n",
        "\n",
        "\t# Return our sum\n",
        "\treturn sum\n",
        "\n",
        "\n",
        "# Create a test array\n",
        "testArray = [1, 3, 34, 92, 29, 48, 20.3]\n",
        "\n",
        "# Test our function\n",
        "print('The sum of your numbers is ' + str(sum(testArray)))\n"
      ],
      "metadata": {
        "id": "pUSCXToIpXP6",
        "outputId": "59c8e430-85c1-4c6c-b2b4-dc6ca48fdc76",
        "colab": {
          "base_uri": "https://localhost:8080/"
        }
      },
      "execution_count": null,
      "outputs": [
        {
          "output_type": "stream",
          "name": "stdout",
          "text": [
            "The sum of your numbers is 227.3\n"
          ]
        }
      ]
    },
    {
      "cell_type": "code",
      "source": [
        "import numpy as np\n",
        "# Create a sequence of integers from 10 to 1 with a step of -2\n",
        "a = np.arange(10, 1, -2)\n",
        "print(\"\\n A sequential array with a negative step: \\n\",a)\n",
        "# Indexes are specified inside the np.array method.\n",
        "newarr = a[np.array([3, 1, 2 ])]\n",
        "print(\"\\n Elements at these indices are:\\n\",newarr)"
      ],
      "metadata": {
        "id": "FhQg2-mtpbF1",
        "outputId": "f00a49fe-42f4-4291-94d7-d7479246332a",
        "colab": {
          "base_uri": "https://localhost:8080/"
        }
      },
      "execution_count": null,
      "outputs": [
        {
          "output_type": "stream",
          "name": "stdout",
          "text": [
            "\n",
            " A sequential array with a negative step: \n",
            " [10  8  6  4  2]\n",
            "\n",
            " Elements at these indices are:\n",
            " [4 8 6]\n"
          ]
        }
      ]
    },
    {
      "cell_type": "code",
      "source": [
        "#A Pandas DataFrame is a 2 dimensional data structure, like a 2 dimensional array, or a table with rows and columns.\n",
        "import pandas as pd\n",
        "\n",
        "data = {\n",
        "  \"calories\": [420, 380, 390],\n",
        "  \"duration\": [50, 40, 45]\n",
        "}\n",
        "\n",
        "#load data into a DataFrame object:\n",
        "df = pd.DataFrame(data)\n",
        "\n",
        "print(df)\n",
        "\n",
        "\n",
        "#Pandas use the loc attribute to return one or more specified row(s)\n",
        "#refer to the row index:\n",
        "print(df.loc[0])\n",
        "#Returns a pandas series\n",
        "\n",
        "\n",
        "#use a list of indexes:\n",
        "print(df.loc[[0, 1]])"
      ],
      "metadata": {
        "id": "RNud1DJnpp4V",
        "outputId": "02d75059-fbba-40b2-e7f1-4168767b029d",
        "colab": {
          "base_uri": "https://localhost:8080/"
        }
      },
      "execution_count": null,
      "outputs": [
        {
          "output_type": "stream",
          "name": "stdout",
          "text": [
            "   calories  duration\n",
            "0       420        50\n",
            "1       380        40\n",
            "2       390        45\n",
            "calories    420\n",
            "duration     50\n",
            "Name: 0, dtype: int64\n",
            "   calories  duration\n",
            "0       420        50\n",
            "1       380        40\n"
          ]
        }
      ]
    }
  ]
}